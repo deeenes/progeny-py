{
 "cells": [
  {
   "cell_type": "code",
   "execution_count": 3,
   "metadata": {},
   "outputs": [],
   "source": [
    "import pandas as pd\n",
    "import numpy as np\n",
    "import sys\n",
    "import progeny\n",
    "import scanpy as sc\n",
    "from anndata import AnnData"
   ]
  },
  {
   "cell_type": "code",
   "execution_count": 4,
   "metadata": {},
   "outputs": [
    {
     "name": "stdout",
     "output_type": "stream",
     "text": [
      "--2021-02-04 17:38:50--  http://cf.10xgenomics.com/samples/cell-exp/1.1.0/pbmc3k/pbmc3k_filtered_gene_bc_matrices.tar.gz\n",
      "Resolving cf.10xgenomics.com (cf.10xgenomics.com)... 2606:4700::6812:1ad, 2606:4700::6812:ad, 104.18.0.173, ...\n",
      "Connecting to cf.10xgenomics.com (cf.10xgenomics.com)|2606:4700::6812:1ad|:80... connected.\n",
      "HTTP request sent, awaiting response... 301 Moved Permanently\n",
      "Location: https://cf.10xgenomics.com/samples/cell-exp/1.1.0/pbmc3k/pbmc3k_filtered_gene_bc_matrices.tar.gz [following]\n",
      "--2021-02-04 17:38:50--  https://cf.10xgenomics.com/samples/cell-exp/1.1.0/pbmc3k/pbmc3k_filtered_gene_bc_matrices.tar.gz\n",
      "Connecting to cf.10xgenomics.com (cf.10xgenomics.com)|2606:4700::6812:1ad|:443... connected.\n",
      "HTTP request sent, awaiting response... 200 OK\n",
      "Length: 7621991 (7,3M) [application/x-tar]\n",
      "Saving to: ‘data/pbmc3k_filtered_gene_bc_matrices.tar.gz’\n",
      "\n",
      "data/pbmc3k_filtere 100%[===================>]   7,27M  5,83MB/s    in 1,2s    \n",
      "\n",
      "2021-02-04 17:38:52 (5,83 MB/s) - ‘data/pbmc3k_filtered_gene_bc_matrices.tar.gz’ saved [7621991/7621991]\n",
      "\n"
     ]
    }
   ],
   "source": [
    "#!mkdir data\n",
    "#!wget http://cf.10xgenomics.com/samples/cell-exp/1.1.0/pbmc3k/pbmc3k_filtered_gene_bc_matrices.tar.gz -O data/pbmc3k_filtered_gene_bc_matrices.tar.gz\n",
    "#!cd data; tar -xzf pbmc3k_filtered_gene_bc_matrices.tar.gz\n",
    "#!mkdir write"
   ]
  },
  {
   "cell_type": "code",
   "execution_count": null,
   "metadata": {},
   "outputs": [],
   "source": [
    "model <- getModel(organism, top=top)\n",
    "common_genes <- intersect(rownames(expr), rownames(model))\n",
    "\n",
    "    if (verbose){\n",
    "        number_genes <- apply(model, 2, function (x) {\n",
    "            sum(rownames(model)[which (x != 0)] %in% unique(rownames(expr)))\n",
    "        })\n",
    "        message(\"Number of genes used per pathway to compute progeny scores:\")\n",
    "        message(paste(names(number_genes),\": \", number_genes, \" (\", \n",
    "            (number_genes/top)*100,\"%)\",sep = \"\",\"\\n\"))\n",
    "    }\n",
    "    \n",
    "    if (perm==1) {\n",
    "        result <- t(expr[common_genes,,drop=FALSE]) %*% \n",
    "            as.matrix(model[common_genes,,drop=FALSE])\n",
    "        \n",
    "        if (scale && nrow(result) > 1) {\n",
    "            rn <- rownames(result)\n",
    "            result <- apply(result, 2, scale)\n",
    "            rownames(result) <- rn\n",
    "        }\n",
    "    \n",
    "    } else if (perm > 1) {\n",
    "      expr <- data.frame(names = row.names(expr), row.names = NULL, expr)\n",
    "      model <- data.frame(names = row.names(model), row.names = NULL, model)\n",
    "      result <- progenyPerm(expr, model, k = perm, z_scores = z_scores, \n",
    "          get_nulldist = get_nulldist)\n",
    "    }"
   ]
  },
  {
   "cell_type": "code",
   "execution_count": 14,
   "metadata": {},
   "outputs": [
    {
     "name": "stderr",
     "output_type": "stream",
     "text": [
      "/home/badi/anaconda3/envs/ml/lib/python3.8/site-packages/scanpy/preprocessing/_normalization.py:138: UserWarning: Revieved a view of an AnnData. Making a copy.\n",
      "  view_to_actual(adata)\n"
     ]
    }
   ],
   "source": [
    "adata = sc.read_10x_mtx(\n",
    "    'data/filtered_gene_bc_matrices/hg19/',\n",
    "    var_names='gene_symbols',                \n",
    "    cache=True)                              \n",
    "adata.var_names_make_unique()\n",
    "\n",
    "# Basic filtering\n",
    "sc.pp.filter_cells(adata, min_genes=200)\n",
    "sc.pp.filter_genes(adata, min_cells=3)\n",
    "\n",
    "# Annotate the group of mitochondrial genes as 'mt'\n",
    "adata.var['mt'] = adata.var_names.str.startswith('MT-')  \n",
    "sc.pp.calculate_qc_metrics(adata, qc_vars=['mt'], percent_top=None, log1p=False, inplace=True)\n",
    "\n",
    "# Filter cells following standard QC criteria.\n",
    "adata = adata[adata.obs.n_genes_by_counts < 2500, :]\n",
    "adata = adata[adata.obs.pct_counts_mt < 5, :]\n",
    "\n",
    "# Normalize the data\n",
    "sc.pp.normalize_total(adata, target_sum=1e4)\n",
    "sc.pp.log1p(adata)\n",
    "\n",
    "# Identify the 2000 most highly variable genes\n",
    "sc.pp.highly_variable_genes(adata, min_mean=0.0125, max_mean=3, min_disp=0.5)#min_mean=0.0125, max_mean=3, min_disp=0.5)\n",
    "\n",
    "# Filter higly variable genes\n",
    "adata.raw = adata\n",
    "adata = adata[:, adata.var.highly_variable]\n",
    "\n",
    "# Regress and scale the data\n",
    "sc.pp.regress_out(adata, ['total_counts', 'pct_counts_mt'])\n",
    "sc.pp.scale(adata, max_value=10)"
   ]
  },
  {
   "cell_type": "code",
   "execution_count": 52,
   "metadata": {},
   "outputs": [
    {
     "data": {
      "text/plain": [
       "array([[ 26.71283212,   3.85237927,  10.75376961, ...,  -3.07260884,\n",
       "          6.21726507,  45.71789235],\n",
       "       [ 41.0373794 ,   4.05017319,   5.97691955, ...,   1.78053667,\n",
       "          1.18154783,  16.1403584 ],\n",
       "       [  2.67311364,   2.93957568, -20.31735917, ...,   0.        ,\n",
       "          5.10106144,  49.99246117],\n",
       "       ...,\n",
       "       [ 20.21121114,  -9.72525334,   0.        , ...,   1.7503634 ,\n",
       "          1.03472579,   6.71342246],\n",
       "       [ 24.19041443,   5.54032715,  13.59175714, ...,  -6.46311173,\n",
       "          9.21124538,  27.97518865],\n",
       "       [ 27.992925  ,  -2.20573471,  42.29704002, ...,   0.        ,\n",
       "          4.81708837,   0.        ]])"
      ]
     },
     "execution_count": 52,
     "metadata": {},
     "output_type": "execute_result"
    }
   ],
   "source": [
    "data = adata\n",
    "if isinstance(data, AnnData):\n",
    "    if data.raw is None:\n",
    "        data = pd.DataFrame(np.transpose(data.X), index=data.var.index, \n",
    "                               columns=data.obs.index)\n",
    "    else:\n",
    "        data = pd.DataFrame(np.transpose(data.raw.X.toarray()), index=data.raw.var.index, \n",
    "                               columns=data.raw.obs_names)\n",
    "\n",
    "model = progeny.getModel()\n",
    "common_genes = np.array(model.index.intersection(data.index).to_list())\n",
    "np.array(data.loc[common_genes].T).dot(np.array(model.loc[common_genes,]))"
   ]
  }
 ],
 "metadata": {
  "kernelspec": {
   "display_name": "ml",
   "language": "python",
   "name": "ml"
  },
  "language_info": {
   "codemirror_mode": {
    "name": "ipython",
    "version": 3
   },
   "file_extension": ".py",
   "mimetype": "text/x-python",
   "name": "python",
   "nbconvert_exporter": "python",
   "pygments_lexer": "ipython3",
   "version": "3.8.5"
  }
 },
 "nbformat": 4,
 "nbformat_minor": 4
}
